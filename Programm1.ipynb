{
 "cells": [
  {
   "cell_type": "code",
   "execution_count": 1,
   "id": "980b5bb0",
   "metadata": {},
   "outputs": [],
   "source": [
    "#include <algoviz/SVG.hpp>\n",
    "#include <iostream>\n",
    "\n",
    "using namespace std;"
   ]
  },
  {
   "cell_type": "code",
   "execution_count": 2,
   "id": "b1bf100b",
   "metadata": {},
   "outputs": [],
   "source": [
    "SVG spielfeld = SVG(1000, 600, \"Flappy Bernhard\");\n",
    "\n",
    "int x = 500;\n",
    "int y = 20;\n",
    "int laenge1 = (rand() % 250 + 100);\n",
    "int laenge2 = (rand() % 250 + 100);\n",
    "int breite = 50;\n",
    "\n",
    "int vx = 300;\n",
    "int vy = 300; \n",
    "\n",
    "spielfeld.drawImage(\"https://user-images.githubusercontent.com/18351809/46888871-624a3900-ce7f-11e8-808e-99fd90c8a3f4.png\", 0, 0, 1000, 600);\n",
    "Image vogel = Image(\"https://miro.medium.com/max/724/1*ey7wIxpYa7Er7nRHhwyirQ.png\", vx, vy, 50, 50,&spielfeld);\n",
    "\n",
    "Rect obenRohr = Rect(x, y, breite, laenge1, &spielfeld);\n",
    "Rect untenRohr = Rect(x, 580 - laenge2, breite, laenge2, &spielfeld);\n",
    "obenRohr.setFill(\"green\");\n",
    "untenRohr.setFill(\"green\");\n",
    "obenRohr.setColor(\"green\");\n",
    "untenRohr.setColor(\"green\");"
   ]
  },
  {
   "cell_type": "code",
   "execution_count": null,
   "id": "36c2307d",
   "metadata": {},
   "outputs": [],
   "source": [
    "string taste = \"\";\n",
    "\n",
    "while(taste != \"q\") {\n",
    "    taste = spielfeld.lastKey();\n",
    "    \n",
    "    if(taste == \"ArrowUp\") {\n",
    "        vx += 10;\n",
    "        vy += 5;\n",
    "    }\n",
    "    else if(taste == \"ArrowDown\") {\n",
    "        vx += 10;\n",
    "        vy -= 5;\n",
    "    }\n",
    "    vogel.moveTo(vx, vy);\n",
    "        \n",
    "}\n",
    "\n",
    "\n",
    "    \n"
   ]
  },
  {
   "cell_type": "code",
   "execution_count": null,
   "id": "b02b1c60",
   "metadata": {},
   "outputs": [],
   "source": []
  }
 ],
 "metadata": {
  "kernelspec": {
   "display_name": "C++14",
   "language": "C++14",
   "name": "xcpp14"
  },
  "language_info": {
   "codemirror_mode": "text/x-c++src",
   "file_extension": ".cpp",
   "mimetype": "text/x-c++src",
   "name": "c++",
   "version": "14"
  }
 },
 "nbformat": 4,
 "nbformat_minor": 5
}
